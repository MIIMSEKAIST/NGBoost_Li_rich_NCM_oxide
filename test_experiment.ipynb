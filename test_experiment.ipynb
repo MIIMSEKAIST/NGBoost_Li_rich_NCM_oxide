{
 "cells": [
  {
   "cell_type": "code",
   "execution_count": 2,
   "id": "0853824d",
   "metadata": {},
   "outputs": [
    {
     "name": "stdout",
     "output_type": "stream",
     "text": [
      "   predicted_mean  predicted_std  lower_95  upper_95\n",
      "0        0.206419       0.068101  0.072944  0.339894\n",
      "1        0.363823       0.074039  0.218708  0.508937\n",
      "2        0.123007       0.059365  0.006655  0.239360\n",
      "3        0.170339       0.058784  0.055125  0.285553\n",
      "\n",
      "Saved predictions to experimental_test_with_predictions.csv\n"
     ]
    }
   ],
   "source": [
    "import os\n",
    "import joblib\n",
    "import pandas as pd\n",
    "\n",
    "\n",
    "dataset_type = \"full\" \n",
    "model_dir    = f\"models/models_{dataset_type}\"\n",
    "model_path   = os.path.join(model_dir, \"best_ngb_default_model_MatImputer.pkl\")\n",
    "scaler_path  = os.path.join(model_dir, \"scaler_MatImputer.pkl\")\n",
    "test_csv     = \"experimental_test.csv\"\n",
    "out_csv      = \"experimental_test_with_predictions.csv\"\n",
    "\n",
    "\n",
    "ngb_model = joblib.load(model_path)\n",
    "scaler    = joblib.load(scaler_path)\n",
    "\n",
    "\n",
    "df_test = pd.read_csv(test_csv)\n",
    "\n",
    "features = [\n",
    "    'Li_fraction_in_TM_layer', 'Ni_fraction', 'Co_fraction', 'Mn_fraction',\n",
    "    'first_sintering_temperature', 'first_sintering_time',\n",
    "    'second_sintering_temperature', 'second_sintering_time'\n",
    "]\n",
    "\n",
    "X_test        = df_test[features]\n",
    "X_test_scaled = scaler.transform(X_test)\n",
    "y_dist        = ngb_model.pred_dist(X_test_scaled)\n",
    "\n",
    "df_test['predicted_mean'] = y_dist.loc\n",
    "df_test['predicted_std']  = y_dist.scale\n",
    "df_test['lower_95']       = y_dist.ppf(0.025)\n",
    "df_test['upper_95']       = y_dist.ppf(0.975)\n",
    "\n",
    "\n",
    "print(df_test[['predicted_mean','predicted_std','lower_95','upper_95']].head())\n",
    "df_test.to_csv(out_csv, index=False)\n",
    "print(f\"\\nSaved predictions to {out_csv}\")\n"
   ]
  }
 ],
 "metadata": {
  "kernelspec": {
   "display_name": "Python 3",
   "language": "python",
   "name": "python3"
  },
  "language_info": {
   "codemirror_mode": {
    "name": "ipython",
    "version": 3
   },
   "file_extension": ".py",
   "mimetype": "text/x-python",
   "name": "python",
   "nbconvert_exporter": "python",
   "pygments_lexer": "ipython3",
   "version": "3.12.11"
  }
 },
 "nbformat": 4,
 "nbformat_minor": 5
}
